{
 "cells": [
  {
   "cell_type": "markdown",
   "id": "727c5c73",
   "metadata": {},
   "source": [
    "<h1>Fitting IVT mechanistic model to Akama dataset<h1>"
   ]
  },
  {
   "cell_type": "markdown",
   "id": "836f34cc",
   "metadata": {},
   "source": [
    "In this notebook, we will be showing how the figures in our paper were generated. We will be doing the following\n",
    "    \n",
    "    1. Performing local MAP optimization to fit our model to the dataset of Akama et al.\n",
    "    2. Using a linearized model approximation to estimate a parameter covariance matrix. \n",
    "    3. Visualizing model fitting by plotting against fitting dataset\n",
    "    4. Validating our model on new data (without fitting parameters)"
   ]
  },
  {
   "cell_type": "markdown",
   "id": "71fa6a66",
   "metadata": {},
   "source": [
    "<b>1. Importing required packages<b>"
   ]
  },
  {
   "cell_type": "code",
   "execution_count": null,
   "id": "70c27a58",
   "metadata": {},
   "outputs": [],
   "source": [
    "# Pkg.add(\"Distributed\")\n",
    "# Pkg.add(\"DifferentialEquations\")\n",
    "# Pkg.add(\"Plots\")\n",
    "# Pkg.add(\"NLopt\")\n",
    "# Pkg.add(\"LinearAlgebra\")\n",
    "# Pkg.add(\"Metrics\")\n",
    "# Pkg.add(\"CSV\")\n",
    "# Pkg.add(\"DataFrames\")\n",
    "# Pkg.add(\"StaticArrays\")\n",
    "# Pkg.add(\"ForwardDiff\")\n",
    "# Pkg.add(\"NamedTupleTools\")\n",
    "# Pkg.add(\"BenchmarkTools\")\n",
    "# Pkg.add(\"ComponentArrays\")\n",
    "# Pkg.add(\"Distributions\")\n",
    "# Pkg.add(\"Statistics\")\n",
    "# Pkg.add(\"GenericLinearAlgebra\")\n",
    "# Pkg.add(\"DiffResults\")\n",
    "# Pkg.add(\"FLoops\")\n",
    "# Pkg.add(\"SharedArrays\")\n",
    "# Pkg.add(\"FlexiMaps\")\n",
    "# Pkg.add(\"LaTeXStrings\")\n",
    "# Pkg.add(\"DelimitedFiles\")\n",
    "# Pkg.add(\"StatsBase\")\n",
    "# Pkg.add(\"NLsolve\")"
   ]
  },
  {
   "cell_type": "code",
   "execution_count": 9,
   "id": "b9911a2b",
   "metadata": {},
   "outputs": [
    {
     "name": "stderr",
     "output_type": "stream",
     "text": [
      "\u001b[32m\u001b[1m  Activating\u001b[22m\u001b[39m project at `C:\\Users\\ChemeGrad2021\\Documents\\Braatz Group\\MRNA Synthesis\\Published code\\IVTmechanisticmodel\\IVTmodel`\n"
     ]
    }
   ],
   "source": [
    "using Pkg\n",
    "Pkg.activate(\"IVTmodel\")\n",
    "using Distributed\n",
    "using DifferentialEquations\n",
    "using Plots\n",
    "using NLopt\n",
    "using LinearAlgebra\n",
    "using Metrics\n",
    "using CSV, DataFrames\n",
    "using StaticArrays\n",
    "using ForwardDiff\n",
    "using NamedTupleTools\n",
    "using BenchmarkTools\n",
    "using ComponentArrays\n",
    "using Distributions\n",
    "using Statistics\n",
    "using GenericLinearAlgebra\n",
    "using DiffResults\n",
    "using FLoops\n",
    "using SharedArrays\n",
    "using Plots.PlotMeasures\n",
    "using FlexiMaps\n",
    "using LaTeXStrings\n",
    "using DelimitedFiles\n",
    "using StatsBase\n",
    "using NLsolve\n",
    "\n",
    "include(\"./modules/model.jl\")\n",
    "include(\"./modules/parameterbackend.jl\")\n",
    "include(\"./modules/akamadataprocessing.jl\")\n",
    "include(\"./modules/akamaplotting.jl\")\n",
    "include(\"./modules/IVTplotting.jl\")\n",
    "include(\"./modules/modelfitting.jl\")\n",
    "include(\"./modules/residualcalculation.jl\")\n",
    "include(\"./modules/parameteruncertainty.jl\")\n",
    "include(\"./modules/predictionuncertainty.jl\")\n",
    "include(\"./modules/akamasensitivity.jl\");"
   ]
  },
  {
   "cell_type": "markdown",
   "id": "0a3d9cae",
   "metadata": {},
   "source": [
    "<b>2: Setting up model and importing data<b>\n",
    "\n",
    "The following cell creates an object representing the parameters used in our model, whether they are fitted parameters or not, and their Bayesian priors. \n",
    "    \n",
    "We also import required data for fitting and validation. "
   ]
  },
  {
   "cell_type": "code",
   "execution_count": 10,
   "id": "08a1f96e",
   "metadata": {},
   "outputs": [],
   "source": [
    "#Generates settings for parameters used\n",
    "fittingmodel = setupmodel()\n",
    "#Imports calibration data from csv files\n",
    "modeldata = importakamadata()\n",
    "#Imports PPiase validation data\n",
    "PPiasedata = importakamaPPiasedata();"
   ]
  },
  {
   "cell_type": "markdown",
   "id": "0cecc7d1",
   "metadata": {},
   "source": [
    "<b>3: Optimizing Model<b>\n",
    "    \n",
    "We next fit the model to the Akama data set using MAP estimation. While in our work multistart optimization was used for this nonconvex problem, we use a local optimization here for simplicity. We will use a manually selected starting point that is near the optimum but not optimal.  "
   ]
  },
  {
   "cell_type": "code",
   "execution_count": 11,
   "id": "95b09ef1",
   "metadata": {
    "scrolled": true
   },
   "outputs": [
    {
     "data": {
      "text/plain": [
       "1368.7116617893892"
      ]
     },
     "execution_count": 11,
     "metadata": {},
     "output_type": "execute_result"
    }
   ],
   "source": [
    "#Start at a manually selected warm start point\n",
    "modorigin = [\n",
    "  3.93\n",
    "  5.13\n",
    "  3.71\n",
    "  2.30\n",
    " -3.692\n",
    " -3.8\n",
    " -4.50\n",
    "  #0 #If using \"ppiaseuncertainty = true\" uncomment this line\n",
    " #-3.6695 #If using \"ppiaseuncertainty = true\" uncomment this line\n",
    " -0.26\n",
    "  1.65\n",
    "  4.47\n",
    "  6.91\n",
    "  2.08\n",
    "  9.02\n",
    "  3.30\n",
    "  6.91\n",
    "  2.08\n",
    "  4.22\n",
    "  1.84\n",
    "  5.23\n",
    "  3.99\n",
    " -3.95\n",
    "]\n",
    "modoriginparams = fullparameterset(fittingmodel,modorigin)\n",
    "akamaresidual(fittingmodel,modeldata,modorigin) #Print loss of parameters applied to data."
   ]
  },
  {
   "cell_type": "markdown",
   "id": "6fe9bd63",
   "metadata": {},
   "source": [
    "We then optimize the model and calculate a covariance matrix. Note that the loss should be decreasing until a tolerance is reached. "
   ]
  },
  {
   "cell_type": "code",
   "execution_count": 12,
   "id": "0bced047",
   "metadata": {
    "scrolled": true
   },
   "outputs": [
    {
     "name": "stdout",
     "output_type": "stream",
     "text": [
      "1368.7095504898243\n",
      "48650.24466496236\n",
      "38978.42068816599\n",
      "9423.977672686191\n",
      "1133.868969938109\n",
      "1113.6031017935634\n",
      "1063.652804621917\n",
      "998.3546211109616\n",
      "918.895754432008\n",
      "906.7841135978406\n",
      "900.6037318165579\n",
      "894.0035869449218\n",
      "881.3519624967948\n",
      "867.9749508480667\n",
      "853.1351242786352\n",
      "847.3364992047482\n",
      "838.703975796248\n",
      "833.5956984889804\n",
      "828.055604153899\n",
      "819.066558360775\n",
      "811.8467070154892\n",
      "804.7940266683811\n",
      "794.6113301710726\n",
      "787.6989421576275\n",
      "779.9217502419802\n",
      "772.0540676079347\n",
      "769.457901386676\n",
      "768.4931372419748\n",
      "767.5621644755848\n",
      "765.5835643086563\n",
      "761.8067250029387\n",
      "760.7692345135117\n",
      "760.2413246783794\n",
      "760.1491971473548\n",
      "760.0326498657774\n",
      "759.7694251583846\n",
      "758.9384572124263\n",
      "757.622208841902\n",
      "756.494994298787\n",
      "756.0549649942699\n",
      "755.9341900875111\n",
      "755.5988748722731\n",
      "754.5430228658917\n",
      "753.3125116098038\n",
      "751.9422974718805\n",
      "751.2696038940346\n",
      "751.1050817678488\n",
      "751.0670648759108\n",
      "751.0493711569947\n",
      "751.0015089311034\n",
      "750.9378758505594\n",
      "750.8087798470476\n",
      "750.6750193815693\n",
      "750.5542317920833\n",
      "750.5244575622968\n",
      "750.5202592766743\n",
      "750.5167783228039\n",
      "750.5146621951462\n",
      "750.5138067190685\n",
      "750.5134243793868\n",
      "750.5124363590278\n",
      "750.5120911785486\n",
      "750.5108699541693\n",
      "750.5106761617819\n",
      "750.5103657081156\n",
      "got 750.5103657081156 at [4045.3270287199457, 160736.052895121, 5554.338931134694, 200.72020185502572, 0.0002577305895352969, 0.00025540243161806286, 4.1693316660883295e-5, 3.891131263752228, 44.95918445493978, 98503.15486171137, 8.129865648946391e6, 120.224603581603, 1.0409505665747579e9, 2067.6859911389383, 1.8225218380805003e6, 128.8063328937031, 12373.961909879195, 73.44823252154438, 144780.14444068418, 9769.508768290658, 0.000129403347683007] after 65 iterations (returned FTOL_REACHED)\n",
      "Total Residual:                        750.5\n",
      "Components of residual:\n",
      "Concentration Trajectories (Figure 2): 323.1\n",
      "Initial Reaction Rate (Figure 3A):     160.5\n",
      "Mg2PPi solubility (Figure 3B):         200.4\n",
      "Parameter priors:                      66.5\n"
     ]
    }
   ],
   "source": [
    "optim=localopt(fittingmodel, modeldata,300,modorigin,akamaresidual,verbose = true)\n",
    "fittedparamslist = optim[4]\n",
    "fittedparams = fullparameterset(fittingmodel,fittedparamslist)\n",
    "covariancemat = getcovariancematrix(fittingmodel,modeldata,fittedparamslist);\n",
    "writedlm( \"outputs/fittedparameters.csv\",  fittedparamslist, ',')\n",
    "writedlm( \"outputs/covariancematrix.csv\",  covariancemat, ',')\n",
    "printresidual(fittingmodel,modeldata,fittedparamslist)"
   ]
  },
  {
   "cell_type": "markdown",
   "id": "94c49776",
   "metadata": {},
   "source": [
    "We can investigate the source of the loss between the datasets used in our calibration set. In this case, residuals are roughly proportional to the amount of \"information\" we get from each source. "
   ]
  },
  {
   "cell_type": "markdown",
   "id": "8e2c0f6c",
   "metadata": {},
   "source": [
    "<b>4: Plotting Figures from Paper - Fitting Data<b>\n",
    "    \n",
    "Now that we have have successfully fit a set of parameters to our model, we can think about plotting our data alongside our model predictions. "
   ]
  },
  {
   "cell_type": "code",
   "execution_count": null,
   "id": "da24acdc",
   "metadata": {
    "scrolled": false
   },
   "outputs": [],
   "source": [
    "plt = revision1plot1(fittingmodel,modeldata, fittedparams, covariancemat, true,true)\n",
    "savefig(plt,\"figures/SIfigure2.pdf\")\n",
    "plt"
   ]
  },
  {
   "cell_type": "code",
   "execution_count": null,
   "id": "f78f4b1b",
   "metadata": {},
   "outputs": [],
   "source": [
    "plt = revision1plot2(fittingmodel,modeldata, fittedparams, covariancemat, true,true)\n",
    "savefig(plt,\"figures/SIfigure3.pdf\")\n",
    "plt"
   ]
  },
  {
   "cell_type": "markdown",
   "id": "dfcd0972",
   "metadata": {},
   "source": [
    "<b>5: Plotting Figures from Paper - Validation Data<b>\n",
    "    \n",
    "Finally, we can apply our model to new data. See the main body of our paper for a complete description of what this data represents."
   ]
  },
  {
   "cell_type": "code",
   "execution_count": null,
   "id": "d5273f5a",
   "metadata": {
    "scrolled": false
   },
   "outputs": [],
   "source": [
    "plt= plotakamaPPiase(PPiasedata, fittedparams, covariancemat,fittingmodel)\n",
    "plot!(dpi = 1000)\n",
    "savefig(plt,\"figures/SIfigure4.pdf\")\n",
    "plt"
   ]
  },
  {
   "cell_type": "code",
   "execution_count": null,
   "id": "52d979a7",
   "metadata": {
    "scrolled": true
   },
   "outputs": [],
   "source": [
    "plt = plotfromcsv(fittingmodel,fittedparamslist,covariancemat,\"data/rosadata.csv\",range = [1,2,3],plotsize = (600,450),labels = [\"eGFP (1195 nt)\", \"RBD-eGFP (1864 nt)\", \"CAS9-eGFP (5299 nt)\"],dataerrorbars = true, multiplot = false,maximumyield = false)\n",
    "plot!(xlims = (0,1),ylims = (0,20))\n",
    "savefig(plt,\"figures/SIfigure5.pdf\")\n",
    "plt"
   ]
  },
  {
   "cell_type": "code",
   "execution_count": 55,
   "id": "450a8a65",
   "metadata": {},
   "outputs": [
    {
     "name": "stdout",
     "output_type": "stream",
     "text": [
      "4.532653357691607e-6\n",
      "0.000129403347683007\n"
     ]
    },
    {
     "data": {
      "text/plain": [
       "0.035027326872524384"
      ]
     },
     "execution_count": 55,
     "metadata": {},
     "output_type": "execute_result"
    }
   ],
   "source": [
    "Mg = 0.40e-3\n",
    "PPi = 20.25e-3\n",
    "free = getfreeconcentrations(fittedparams, 1e-18, Mg, 1e-18, PPi, 1e-18)\n",
    "(is,_) = speciationmodel(fittedparams, 1e-18, Mg, 1e-18, PPi, 1e-8, free[1], free[2])\n",
    "\n",
    "println(is[4])\n",
    "println(fittedparams.Mg2PPi_eq)\n",
    "\n",
    "is[4]/fittedparams.Mg2PPi_eq"
   ]
  },
  {
   "cell_type": "code",
   "execution_count": 30,
   "id": "d2139023",
   "metadata": {},
   "outputs": [
    {
     "data": {
      "text/plain": [
       "2-element Vector{Float64}:\n",
       " 1.0000000000000018e-8\n",
       " 0.0025350348042097715"
      ]
     },
     "execution_count": 30,
     "metadata": {},
     "output_type": "execute_result"
    }
   ],
   "source": [
    "free"
   ]
  }
 ],
 "metadata": {
  "kernelspec": {
   "display_name": "Julia 1.9.2",
   "language": "julia",
   "name": "julia-1.9"
  },
  "language_info": {
   "file_extension": ".jl",
   "mimetype": "application/julia",
   "name": "julia",
   "version": "1.9.2"
  }
 },
 "nbformat": 4,
 "nbformat_minor": 5
}
