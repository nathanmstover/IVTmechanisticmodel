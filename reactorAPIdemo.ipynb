{
 "cells": [
  {
   "cell_type": "markdown",
   "id": "14c46250",
   "metadata": {},
   "source": [
    "<h1>IVT Reactor API Demo<h1>\n"
   ]
  },
  {
   "cell_type": "markdown",
   "id": "bd200965",
   "metadata": {},
   "source": [
    "    \n",
    "This is a demo of a simple API for using the IVT model for prediction. \n",
    "In this notebook we will \n",
    "1. Show off documentation for the API\n",
    "2. Run the functions and discuss the output"
   ]
  },
  {
   "cell_type": "code",
   "execution_count": 1,
   "id": "aacfae4e",
   "metadata": {
    "scrolled": true
   },
   "outputs": [
    {
     "name": "stderr",
     "output_type": "stream",
     "text": [
      "\u001b[32m\u001b[1m  Activating\u001b[22m\u001b[39m project at `C:\\Users\\ChemeGrad2021\\Documents\\Braatz Group\\MRNA Synthesis\\Published code\\IVTmechanisticmodel\\IVTmodel`\n",
      "\u001b[32m\u001b[1mPrecompiling\u001b[22m\u001b[39m project...\n",
      "\u001b[33m  ? \u001b[39mMetrics\n",
      "\u001b[32m\u001b[1mPrecompiling\u001b[22m\u001b[39m Metrics\n",
      "\u001b[36m\u001b[1m        Info\u001b[22m\u001b[39m Given Metrics was explicitly requested, output will be shown live \u001b[0K\n",
      "\u001b[0KWARNING: Method definition onehot_encode(Any, Any) in module Metrics at C:\\Users\\ChemeGrad2021\\.julia\\packages\\Metrics\\giLga\\src\\Classification.jl:5 overwritten on the same line (check for duplicate calls to `include`).\n",
      "\u001b[0KERROR: Method overwriting is not permitted during Module precompilation. Use `__precompile__(false)` to opt-out of precompilation.\n",
      "\u001b[33m  ? \u001b[39mMetrics\n",
      "\u001b[36m\u001b[1m[ \u001b[22m\u001b[39m\u001b[36m\u001b[1mInfo: \u001b[22m\u001b[39mPrecompiling Metrics [cb9f3049-315b-4f05-b90c-a8adaec4da78]\n",
      "WARNING: Method definition onehot_encode(Any, Any) in module Metrics at C:\\Users\\ChemeGrad2021\\.julia\\packages\\Metrics\\giLga\\src\\Classification.jl:5 overwritten on the same line (check for duplicate calls to `include`).\n",
      "ERROR: Method overwriting is not permitted during Module precompilation. Use `__precompile__(false)` to opt-out of precompilation.\n",
      "\u001b[36m\u001b[1m[ \u001b[22m\u001b[39m\u001b[36m\u001b[1mInfo: \u001b[22m\u001b[39mSkipping precompilation since __precompile__(false). Importing Metrics [cb9f3049-315b-4f05-b90c-a8adaec4da78].\n",
      "\u001b[33m\u001b[1m┌ \u001b[22m\u001b[39m\u001b[33m\u001b[1mWarning: \u001b[22m\u001b[39mReplacing docs for `Metrics.bin_to_cat :: Tuple{Any, Any}` in module `Metrics`\n",
      "\u001b[33m\u001b[1m└ \u001b[22m\u001b[39m\u001b[90m@ Base.Docs docs\\Docs.jl:243\u001b[39m\n",
      "\u001b[33m\u001b[1m┌ \u001b[22m\u001b[39m\u001b[33m\u001b[1mWarning: \u001b[22m\u001b[39mReplacing docs for `Metrics.confusion_matrix :: Tuple{Any, Any}` in module `Metrics`\n",
      "\u001b[33m\u001b[1m└ \u001b[22m\u001b[39m\u001b[90m@ Base.Docs docs\\Docs.jl:243\u001b[39m\n",
      "\u001b[33m\u001b[1m┌ \u001b[22m\u001b[39m\u001b[33m\u001b[1mWarning: \u001b[22m\u001b[39mReplacing docs for `Metrics.TFPN :: Tuple{Any, Any}` in module `Metrics`\n",
      "\u001b[33m\u001b[1m└ \u001b[22m\u001b[39m\u001b[90m@ Base.Docs docs\\Docs.jl:243\u001b[39m\n",
      "\u001b[33m\u001b[1m┌ \u001b[22m\u001b[39m\u001b[33m\u001b[1mWarning: \u001b[22m\u001b[39mReplacing docs for `Metrics.binary_accuracy :: Tuple{Any, Any}` in module `Metrics`\n",
      "\u001b[33m\u001b[1m└ \u001b[22m\u001b[39m\u001b[90m@ Base.Docs docs\\Docs.jl:243\u001b[39m\n",
      "\u001b[33m\u001b[1m┌ \u001b[22m\u001b[39m\u001b[33m\u001b[1mWarning: \u001b[22m\u001b[39mReplacing docs for `Metrics.categorical_accuracy :: Tuple{Any, Any}` in module `Metrics`\n",
      "\u001b[33m\u001b[1m└ \u001b[22m\u001b[39m\u001b[90m@ Base.Docs docs\\Docs.jl:243\u001b[39m\n",
      "\u001b[33m\u001b[1m┌ \u001b[22m\u001b[39m\u001b[33m\u001b[1mWarning: \u001b[22m\u001b[39mReplacing docs for `Metrics.sparse_categorical :: Tuple{Any, Any}` in module `Metrics`\n",
      "\u001b[33m\u001b[1m└ \u001b[22m\u001b[39m\u001b[90m@ Base.Docs docs\\Docs.jl:243\u001b[39m\n",
      "\u001b[33m\u001b[1m┌ \u001b[22m\u001b[39m\u001b[33m\u001b[1mWarning: \u001b[22m\u001b[39mReplacing docs for `Metrics.top_k_categorical :: Tuple{Any, Any}` in module `Metrics`\n",
      "\u001b[33m\u001b[1m└ \u001b[22m\u001b[39m\u001b[90m@ Base.Docs docs\\Docs.jl:243\u001b[39m\n",
      "\u001b[33m\u001b[1m┌ \u001b[22m\u001b[39m\u001b[33m\u001b[1mWarning: \u001b[22m\u001b[39mReplacing docs for `Metrics.top_k_sparse_categorical :: Tuple{Any, Any}` in module `Metrics`\n",
      "\u001b[33m\u001b[1m└ \u001b[22m\u001b[39m\u001b[90m@ Base.Docs docs\\Docs.jl:243\u001b[39m\n",
      "\u001b[33m\u001b[1m┌ \u001b[22m\u001b[39m\u001b[33m\u001b[1mWarning: \u001b[22m\u001b[39mReplacing docs for `Metrics.precision :: Tuple{Any, Any}` in module `Metrics`\n",
      "\u001b[33m\u001b[1m└ \u001b[22m\u001b[39m\u001b[90m@ Base.Docs docs\\Docs.jl:243\u001b[39m\n",
      "\u001b[33m\u001b[1m┌ \u001b[22m\u001b[39m\u001b[33m\u001b[1mWarning: \u001b[22m\u001b[39mReplacing docs for `Metrics.recall :: Tuple{Any, Any}` in module `Metrics`\n",
      "\u001b[33m\u001b[1m└ \u001b[22m\u001b[39m\u001b[90m@ Base.Docs docs\\Docs.jl:243\u001b[39m\n",
      "\u001b[33m\u001b[1m┌ \u001b[22m\u001b[39m\u001b[33m\u001b[1mWarning: \u001b[22m\u001b[39mReplacing docs for `Metrics.f_beta_score :: Tuple{Any, Any}` in module `Metrics`\n",
      "\u001b[33m\u001b[1m└ \u001b[22m\u001b[39m\u001b[90m@ Base.Docs docs\\Docs.jl:243\u001b[39m\n",
      "\u001b[33m\u001b[1m┌ \u001b[22m\u001b[39m\u001b[33m\u001b[1mWarning: \u001b[22m\u001b[39mReplacing docs for `Metrics.specificity :: Tuple{Any, Any}` in module `Metrics`\n",
      "\u001b[33m\u001b[1m└ \u001b[22m\u001b[39m\u001b[90m@ Base.Docs docs\\Docs.jl:243\u001b[39m\n",
      "\u001b[33m\u001b[1m┌ \u001b[22m\u001b[39m\u001b[33m\u001b[1mWarning: \u001b[22m\u001b[39mReplacing docs for `Metrics.false_alarm_rate :: Tuple{Any, Any}` in module `Metrics`\n",
      "\u001b[33m\u001b[1m└ \u001b[22m\u001b[39m\u001b[90m@ Base.Docs docs\\Docs.jl:243\u001b[39m\n",
      "\u001b[33m\u001b[1m┌ \u001b[22m\u001b[39m\u001b[33m\u001b[1mWarning: \u001b[22m\u001b[39mReplacing docs for `Metrics.cohen_kappa :: Tuple{Any, Any}` in module `Metrics`\n",
      "\u001b[33m\u001b[1m└ \u001b[22m\u001b[39m\u001b[90m@ Base.Docs docs\\Docs.jl:243\u001b[39m\n",
      "\u001b[33m\u001b[1m┌ \u001b[22m\u001b[39m\u001b[33m\u001b[1mWarning: \u001b[22m\u001b[39mReplacing docs for `Metrics.statsfromTFPN :: NTuple{4, Any}` in module `Metrics`\n",
      "\u001b[33m\u001b[1m└ \u001b[22m\u001b[39m\u001b[90m@ Base.Docs docs\\Docs.jl:243\u001b[39m\n",
      "\u001b[33m\u001b[1m┌ \u001b[22m\u001b[39m\u001b[33m\u001b[1mWarning: \u001b[22m\u001b[39mReplacing docs for `Metrics.classwise_stats_fn :: Tuple{Any, Any}` in module `Metrics`\n",
      "\u001b[33m\u001b[1m└ \u001b[22m\u001b[39m\u001b[90m@ Base.Docs docs\\Docs.jl:243\u001b[39m\n",
      "\u001b[33m\u001b[1m┌ \u001b[22m\u001b[39m\u001b[33m\u001b[1mWarning: \u001b[22m\u001b[39mReplacing docs for `Metrics.global_stats :: Tuple{Any, Any}` in module `Metrics`\n",
      "\u001b[33m\u001b[1m└ \u001b[22m\u001b[39m\u001b[90m@ Base.Docs docs\\Docs.jl:243\u001b[39m\n"
     ]
    }
   ],
   "source": [
    "#Importing API\n",
    "include(\"./modules/reactorAPI.jl\")\n",
    "#We will also need BenchmarkTools to assess performance\n",
    "using BenchmarkTools"
   ]
  },
  {
   "cell_type": "markdown",
   "id": "2c8631b3",
   "metadata": {},
   "source": [
    "<h2>Part 1: Generating Model Predictions<h2>"
   ]
  },
  {
   "cell_type": "code",
   "execution_count": 2,
   "id": "1b215387",
   "metadata": {},
   "outputs": [
    {
     "name": "stdout",
     "output_type": "stream",
     "text": [
      "search: \u001b[0m\u001b[1mI\u001b[22m\u001b[0m\u001b[1mV\u001b[22m\u001b[0m\u001b[1mT\u001b[22m\u001b[0m\u001b[1m_\u001b[22m\u001b[0m\u001b[1mP\u001b[22m\u001b[0m\u001b[1mF\u001b[22m\u001b[0m\u001b[1mR\u001b[22m \u001b[0m\u001b[1mI\u001b[22m\u001b[0m\u001b[1mV\u001b[22m\u001b[0m\u001b[1mT\u001b[22m\u001b[0m\u001b[1m_\u001b[22m\u001b[0m\u001b[1mP\u001b[22m\u001b[0m\u001b[1mF\u001b[22m\u001b[0m\u001b[1mR\u001b[22m_uncertainty parameter\u001b[0m\u001b[1mi\u001b[22mzed_I\u001b[0m\u001b[1mV\u001b[22m\u001b[0m\u001b[1mT\u001b[22m\u001b[0m\u001b[1m_\u001b[22m\u001b[0m\u001b[1mP\u001b[22m\u001b[0m\u001b[1mF\u001b[22m\u001b[0m\u001b[1mR\u001b[22m\n",
      "\n"
     ]
    },
    {
     "data": {
      "text/latex": [
       "\\begin{verbatim}\n",
       "IVT_PFR(T7RNAP,ATP,UTP,CTP,GTP,Mg,DNA,spacetime; kwargs...)\n",
       "\\end{verbatim}\n",
       "Part of IVT API. Takes reactor inputs to generate single prediction using maximum likelihood parameter set. Can represent batch reaction (where spacetime=reaction time) or idealized PFR (where spacetime = reactor length/fluid speed)\n",
       "\n",
       "\\subsubsection{Inputs:}\n",
       "\\begin{itemize}\n",
       "\\item T7RNAP: T7RNA polymerase input concentration (mol/L)\n",
       "\n",
       "\n",
       "\\item ATP-GTP: Concentration of respective NTP in mol/L\n",
       "\n",
       "\n",
       "\\item Mg: Concentration of Magnesium salt in mol/L\n",
       "\n",
       "\n",
       "\\item DNA: Concentration of DNA in nanomoles/L\n",
       "\n",
       "\n",
       "\\item spacetime: Time in hours\n",
       "\n",
       "\\end{itemize}\n",
       "\\subsubsection{Important keyword arguments:}\n",
       "\\begin{itemize}\n",
       "\\item stoich = SVector(231, 246, 189, 202): tuple of integers describing number of A,U,C,G in target sequence.\n",
       "\n",
       "\n",
       "\\item PPiase = 0.0: concentration of pyrophosphatase enzyme in U/uL\n",
       "\n",
       "\n",
       "\\item Cap = 0.0: concentration of cap analogue in mol/L\n",
       "\n",
       "\n",
       "\\item tol = 1e-5: float of DAE solver tolerance. \n",
       "\n",
       "\\end{itemize}\n",
       "\\subsubsection{Outputs:}\n",
       "\\begin{itemize}\n",
       "\\item Vector of two values [RNAoutput, NTPconversion]\n",
       "\n",
       "\n",
       "\\item RNAoutput = Concentration of RNA product in outlet stream in umol/L\n",
       "\n",
       "\n",
       "\\item NTPconversion = fractional conversion of NTP feedstock (bounded between 0-1)\n",
       "\n",
       "\\end{itemize}\n"
      ],
      "text/markdown": [
       "```\n",
       "IVT_PFR(T7RNAP,ATP,UTP,CTP,GTP,Mg,DNA,spacetime; kwargs...)\n",
       "```\n",
       "\n",
       "Part of IVT API. Takes reactor inputs to generate single prediction using maximum likelihood parameter set. Can represent batch reaction (where spacetime=reaction time) or idealized PFR (where spacetime = reactor length/fluid speed)\n",
       "\n",
       "### Inputs:\n",
       "\n",
       "  * T7RNAP: T7RNA polymerase input concentration (mol/L)\n",
       "  * ATP-GTP: Concentration of respective NTP in mol/L\n",
       "  * Mg: Concentration of Magnesium salt in mol/L\n",
       "  * DNA: Concentration of DNA in nanomoles/L\n",
       "  * spacetime: Time in hours\n",
       "\n",
       "### Important keyword arguments:\n",
       "\n",
       "  * stoich = SVector(231, 246, 189, 202): tuple of integers describing number of A,U,C,G in target sequence.\n",
       "  * PPiase = 0.0: concentration of pyrophosphatase enzyme in U/uL\n",
       "  * Cap = 0.0: concentration of cap analogue in mol/L\n",
       "  * tol = 1e-5: float of DAE solver tolerance.\n",
       "\n",
       "### Outputs:\n",
       "\n",
       "  * Vector of two values [RNAoutput, NTPconversion]\n",
       "  * RNAoutput = Concentration of RNA product in outlet stream in umol/L\n",
       "  * NTPconversion = fractional conversion of NTP feedstock (bounded between 0-1)\n"
      ],
      "text/plain": [
       "\u001b[36m  IVT_PFR(T7RNAP,ATP,UTP,CTP,GTP,Mg,DNA,spacetime; kwargs...)\u001b[39m\n",
       "\n",
       "  Part of IVT API. Takes reactor inputs to generate single prediction using\n",
       "  maximum likelihood parameter set. Can represent batch reaction (where\n",
       "  spacetime=reaction time) or idealized PFR (where spacetime = reactor\n",
       "  length/fluid speed)\n",
       "\n",
       "\u001b[1m  Inputs:\u001b[22m\n",
       "\u001b[1m  –––––––\u001b[22m\n",
       "\n",
       "    •  T7RNAP: T7RNA polymerase input concentration (mol/L)\n",
       "\n",
       "    •  ATP-GTP: Concentration of respective NTP in mol/L\n",
       "\n",
       "    •  Mg: Concentration of Magnesium salt in mol/L\n",
       "\n",
       "    •  DNA: Concentration of DNA in nanomoles/L\n",
       "\n",
       "    •  spacetime: Time in hours\n",
       "\n",
       "\u001b[1m  Important keyword arguments:\u001b[22m\n",
       "\u001b[1m  ––––––––––––––––––––––––––––\u001b[22m\n",
       "\n",
       "    •  stoich = SVector(231, 246, 189, 202): tuple of integers describing\n",
       "       number of A,U,C,G in target sequence.\n",
       "\n",
       "    •  PPiase = 0.0: concentration of pyrophosphatase enzyme in U/uL\n",
       "\n",
       "    •  Cap = 0.0: concentration of cap analogue in mol/L\n",
       "\n",
       "    •  tol = 1e-5: float of DAE solver tolerance.\n",
       "\n",
       "\u001b[1m  Outputs:\u001b[22m\n",
       "\u001b[1m  ––––––––\u001b[22m\n",
       "\n",
       "    •  Vector of two values [RNAoutput, NTPconversion]\n",
       "\n",
       "    •  RNAoutput = Concentration of RNA product in outlet stream in\n",
       "       umol/L\n",
       "\n",
       "    •  NTPconversion = fractional conversion of NTP feedstock (bounded\n",
       "       between 0-1)"
      ]
     },
     "execution_count": 2,
     "metadata": {},
     "output_type": "execute_result"
    }
   ],
   "source": [
    "?IVT_PFR # Use a question mark like this to pull up documentation"
   ]
  },
  {
   "cell_type": "code",
   "execution_count": 3,
   "id": "3b7b4872",
   "metadata": {
    "scrolled": false
   },
   "outputs": [
    {
     "data": {
      "text/plain": [
       "2-element Vector{Float64}:\n",
       " 1.757588450175175\n",
       " 0.2196985562718966"
      ]
     },
     "execution_count": 3,
     "metadata": {},
     "output_type": "execute_result"
    }
   ],
   "source": [
    "T7RNAP = 1e-7 #Typical values are between 1e-8 = 2e-7\n",
    "ATP = CTP = GTP = UTP = 0.0032 #Typical values are between 0.003 - 0.015\n",
    "Mg = 0.008 #Typical values are between 0.006 - 0.060\n",
    "DNA = 7.4 #Typical values are between 1 - 50\n",
    "finaltime = 2 #Typical values are between 0.5 - 10\n",
    "stoich = (400,400,400,400)\n",
    "IVT_PFR(T7RNAP,ATP,UTP,CTP,GTP,Mg,DNA,finaltime, stoich = stoich)"
   ]
  },
  {
   "cell_type": "code",
   "execution_count": null,
   "id": "c37c0f7e",
   "metadata": {},
   "outputs": [],
   "source": [
    "@benchmark IVT_PFR(T7RNAP,ATP,UTP,CTP,GTP,Mg,DNA,finaltime, stoich = stoich)"
   ]
  },
  {
   "cell_type": "markdown",
   "id": "633f537f",
   "metadata": {},
   "source": [
    "<h2>Part 2: Generating Model Predictions with prediction uncertainty<h2>"
   ]
  },
  {
   "cell_type": "markdown",
   "id": "cea2807d",
   "metadata": {},
   "source": [
    "We will now discuss a similar function that calculates the 95% confidence interval of model prediction. This uncertainty calculation is based on monte carlo sampling, and it takes considerably longer to run than the first function. "
   ]
  },
  {
   "cell_type": "code",
   "execution_count": null,
   "id": "33199acd",
   "metadata": {},
   "outputs": [],
   "source": [
    "?IVT_PFR_uncertainty"
   ]
  },
  {
   "cell_type": "code",
   "execution_count": null,
   "id": "2dafe81b",
   "metadata": {},
   "outputs": [],
   "source": [
    "IVT_PFR_uncertainty(T7RNAP,ATP,UTP,CTP,GTP,Mg,DNA,finaltime, stoich = stoich)"
   ]
  },
  {
   "cell_type": "code",
   "execution_count": null,
   "id": "3610015d",
   "metadata": {},
   "outputs": [],
   "source": [
    "@benchmark IVT_PFR_uncertainty(T7RNAP,ATP,UTP,CTP,GTP,Mg,DNA,finaltime, stoich = stoich)"
   ]
  }
 ],
 "metadata": {
  "kernelspec": {
   "display_name": "Julia 1.10.0",
   "language": "julia",
   "name": "julia-1.10"
  },
  "language_info": {
   "file_extension": ".jl",
   "mimetype": "application/julia",
   "name": "julia",
   "version": "1.10.0"
  }
 },
 "nbformat": 4,
 "nbformat_minor": 5
}
